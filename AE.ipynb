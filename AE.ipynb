{
 "cells": [
  {
   "cell_type": "markdown",
   "metadata": {
    "id": "OV5XEcrMDnsU"
   },
   "source": [
    "Question 1 (Dataset preprocessing)"
   ]
  },
  {
   "cell_type": "code",
   "execution_count": 4,
   "metadata": {
    "colab": {
     "base_uri": "https://localhost:8080/",
     "height": 240
    },
    "id": "su-o_EbhlDye",
    "outputId": "2c0c5d0b-60a9-46e0-a3ee-3a5f035356ab"
   },
   "outputs": [
    {
     "ename": "TimeoutError",
     "evalue": "[Errno 60] Operation timed out",
     "output_type": "error",
     "traceback": [
      "\u001b[0;31m---------------------------------------------------------------------------\u001b[0m",
      "\u001b[0;31mTimeoutError\u001b[0m                              Traceback (most recent call last)",
      "\u001b[0;32m<ipython-input-4-1541d2631d3a>\u001b[0m in \u001b[0;36m<module>\u001b[0;34m\u001b[0m\n\u001b[1;32m      7\u001b[0m \u001b[0;32mwith\u001b[0m \u001b[0mopen\u001b[0m\u001b[0;34m(\u001b[0m\u001b[0;34m'cartman.csv'\u001b[0m\u001b[0;34m)\u001b[0m \u001b[0;32mas\u001b[0m \u001b[0mc_f\u001b[0m\u001b[0;34m:\u001b[0m\u001b[0;34m\u001b[0m\u001b[0;34m\u001b[0m\u001b[0m\n\u001b[1;32m      8\u001b[0m   \u001b[0mc_r\u001b[0m \u001b[0;34m=\u001b[0m \u001b[0mcsv\u001b[0m\u001b[0;34m.\u001b[0m\u001b[0mreader\u001b[0m\u001b[0;34m(\u001b[0m\u001b[0mc_f\u001b[0m\u001b[0;34m)\u001b[0m\u001b[0;34m\u001b[0m\u001b[0;34m\u001b[0m\u001b[0m\n\u001b[0;32m----> 9\u001b[0;31m   \u001b[0;32mfor\u001b[0m \u001b[0mrow\u001b[0m \u001b[0;32min\u001b[0m \u001b[0mc_r\u001b[0m\u001b[0;34m:\u001b[0m\u001b[0;34m\u001b[0m\u001b[0;34m\u001b[0m\u001b[0m\n\u001b[0m\u001b[1;32m     10\u001b[0m     \u001b[0mcartman\u001b[0m\u001b[0;34m.\u001b[0m\u001b[0mappend\u001b[0m\u001b[0;34m(\u001b[0m\u001b[0;34m{\u001b[0m\u001b[0;34m'name'\u001b[0m\u001b[0;34m:\u001b[0m\u001b[0;34m'Cartman'\u001b[0m\u001b[0;34m,\u001b[0m \u001b[0;34m'line'\u001b[0m\u001b[0;34m:\u001b[0m\u001b[0;34m''\u001b[0m\u001b[0;34m.\u001b[0m\u001b[0mjoin\u001b[0m\u001b[0;34m(\u001b[0m\u001b[0mrow\u001b[0m\u001b[0;34m)\u001b[0m\u001b[0;34m}\u001b[0m\u001b[0;34m)\u001b[0m\u001b[0;34m\u001b[0m\u001b[0;34m\u001b[0m\u001b[0m\n\u001b[1;32m     11\u001b[0m \u001b[0mcartman\u001b[0m \u001b[0;34m=\u001b[0m \u001b[0mrandom\u001b[0m\u001b[0;34m.\u001b[0m\u001b[0msample\u001b[0m\u001b[0;34m(\u001b[0m\u001b[0mcartman\u001b[0m\u001b[0;34m,\u001b[0m \u001b[0;36m2000\u001b[0m\u001b[0;34m)\u001b[0m\u001b[0;34m\u001b[0m\u001b[0;34m\u001b[0m\u001b[0m\n",
      "\u001b[0;31mTimeoutError\u001b[0m: [Errno 60] Operation timed out"
     ]
    }
   ],
   "source": [
    "import csv, random\n",
    "from sklearn.model_selection import train_test_split\n",
    "from collections import Counter\n",
    "random.seed(42)\n",
    "\n",
    "cartman = []\n",
    "with open('cartman.csv') as c_f:\n",
    "  c_r = csv.reader(c_f)\n",
    "  for row in c_r:\n",
    "    cartman.append({'name':'Cartman', 'line':''.join(row)})\n",
    "cartman = random.sample(cartman, 2000)\n",
    "\n",
    "kenny = []\n",
    "with open('kenny.csv') as ke_f:\n",
    "  ke_r = csv.reader(ke_f)\n",
    "  for row in ke_r:\n",
    "    kenny.append({'name':'Kenny', 'line':''.join(row)})\n",
    "\n",
    "kyle = []\n",
    "with open('kyle.csv') as ky_f:\n",
    "  ky_r = csv.reader(ky_f)\n",
    "  for row in ky_r:\n",
    "    kyle.append({'name':'Kyle', 'line':''.join(row)})\n",
    "kyle = random.sample(kyle, 2000)\n",
    "\n",
    "stan = []\n",
    "with open('stan.csv') as s_f:\n",
    "  s_r = csv.reader(s_f)\n",
    "  for row in s_r:\n",
    "    stan.append({'name':'Stan', 'line':''.join(row)})\n",
    "stan = random.sample(stan, 2000)"
   ]
  },
  {
   "cell_type": "code",
   "execution_count": null,
   "metadata": {
    "colab": {
     "base_uri": "https://localhost:8080/",
     "height": 240
    },
    "id": "EWWQzLa9nWiy",
    "outputId": "9a4d4d05-1215-43a2-8545-aa52a07a0c40"
   },
   "outputs": [],
   "source": [
    "data = cartman + kenny + kyle + stan\n",
    "\n",
    "labels, texts = [], []\n",
    "for val in data:\n",
    "  labels.append(val['name'])\n",
    "  texts.append(val['line'])"
   ]
  },
  {
   "cell_type": "code",
   "execution_count": null,
   "metadata": {
    "id": "SgY15b5qD4t2"
   },
   "outputs": [],
   "source": [
    "texts_train, texts_test, labels_train, labels_test = train_test_split(texts, labels, test_size=0.2, random_state=42)\n",
    "texts_train, texts_val, labels_train, labels_val = train_test_split(texts_train, labels_train, test_size=0.25, random_state=42)\n",
    "\n",
    "Counter(labels_train)"
   ]
  },
  {
   "cell_type": "markdown",
   "metadata": {
    "id": "ObJcXl1IGJc8"
   },
   "source": [
    "Question 2 (K-means clustering)"
   ]
  },
  {
   "cell_type": "code",
   "execution_count": null,
   "metadata": {
    "id": "9VO9IFMMD-Kd"
   },
   "outputs": [],
   "source": [
    "#Vectorise\n",
    "from sklearn.feature_extraction.text import TfidfVectorizer\n",
    "\n",
    "vectorizer = TfidfVectorizer()\n",
    "X_train = vectorizer.fit_transform(texts_train)\n",
    "X_val = vectorizer.transform(texts_val)\n",
    "\n",
    "print(X_train[0].shape)"
   ]
  },
  {
   "cell_type": "code",
   "execution_count": null,
   "metadata": {
    "id": "Z8E5IDkb19cm"
   },
   "outputs": [],
   "source": [
    "import numpy as np\n",
    "\n",
    "def k_means(X, k):\n",
    "    np.random.seed(42)\n",
    "    centroids = X[np.random.choice(len(X), size=k, replace=False)]\n",
    "    labels = np.zeros(len(X))\n",
    "    \n",
    "    while(True):\n",
    "        distances = np.sqrt(((X - centroids[:, np.newaxis])**2).sum(axis=2))\n",
    "        new_labels = np.argmin(distances, axis=0)\n",
    "        \n",
    "        if np.array_equal(labels, new_labels):\n",
    "            break\n",
    "        \n",
    "        for i in range(k):\n",
    "            centroids[i] = X[new_labels == i].mean(axis=0)\n",
    "        \n",
    "        labels = new_labels\n",
    "    \n",
    "    return labels, centroids\n"
   ]
  },
  {
   "cell_type": "code",
   "execution_count": null,
   "metadata": {
    "id": "3lNJzkXohKqm"
   },
   "outputs": [],
   "source": [
    "k_labels, centroids = k_means(X_train.toarray(), 5)"
   ]
  },
  {
   "cell_type": "code",
   "execution_count": null,
   "metadata": {
    "id": "-ubDh5D5RW_p"
   },
   "outputs": [],
   "source": [
    "Counter(k_labels)"
   ]
  },
  {
   "cell_type": "code",
   "execution_count": null,
   "metadata": {
    "id": "GDx6QdcHqvqV"
   },
   "outputs": [],
   "source": [
    "for j in range (5):\n",
    "  counter, i = 0, 0\n",
    "  while (counter < 10):\n",
    "    if (k_labels[i] == j):\n",
    "      unvectorized = vectorizer.inverse_transform(X_train[i])\n",
    "      for text in unvectorized:\n",
    "        print(' '.join(text))\n",
    "      counter+=1\n",
    "    i+=1\n",
    "  print()\n"
   ]
  },
  {
   "cell_type": "code",
   "execution_count": null,
   "metadata": {
    "id": "QcybAJ9rDwmP"
   },
   "outputs": [],
   "source": [
    "from scipy import sparse\n",
    "\n",
    "array = X_train.toarray()\n",
    "for j in range (5):\n",
    "  split = array[k_labels==j]\n",
    "  mean = np.mean(split, axis=0)\n",
    "  ind = np.argpartition(mean, -5)[-5:]\n",
    "  for i in ind:\n",
    "    a = np.zeros_like(mean)\n",
    "    a[i] = 1\n",
    "    sA = sparse.csr_matrix(a)\n",
    "    unvectorized = vectorizer.inverse_transform(sA)\n",
    "    for text in unvectorized:\n",
    "      print(' '.join(text))\n",
    "  print()"
   ]
  },
  {
   "cell_type": "code",
   "execution_count": null,
   "metadata": {
    "id": "LrxyvnptGJN1"
   },
   "outputs": [],
   "source": [
    "from sklearn.metrics import confusion_matrix\n",
    "from sklearn.metrics import ConfusionMatrixDisplay\n",
    "\n",
    "string_k_labels = []\n",
    "for val in k_labels:\n",
    "  if (val == 0):\n",
    "    string_k_labels.append(\"Cartman\")\n",
    "  elif (val == 1):\n",
    "    string_k_labels.append(\"Stan\")\n",
    "  elif (val == 2):\n",
    "    string_k_labels.append(\"Kenny\")\n",
    "  elif (val == 3):\n",
    "    string_k_labels.append(\"Kyle\")\n",
    "  elif (val == 4):\n",
    "    string_k_labels.append(\"Unknown\")\n",
    "  \n",
    "cm = confusion_matrix(labels_train, string_k_labels)\n",
    "ConfusionMatrixDisplay(confusion_matrix=cm, display_labels=['Cartman','Stan', 'Kenny', 'Kyle', 'Unknown']).plot()"
   ]
  },
  {
   "cell_type": "code",
   "execution_count": null,
   "metadata": {
    "id": "CmcgskeUQX9y"
   },
   "outputs": [],
   "source": [
    "#Dummy classifier \"most_frequent\"\n",
    "from sklearn.dummy import DummyClassifier\n",
    "import numpy as np\n",
    "\n",
    "dummy_mf = DummyClassifier(strategy=\"most_frequent\", random_state=42)\n",
    "dummy_mf.fit(X_train, labels_train)\n",
    "dummy_mf_labels_predicted = dummy_mf.predict(X_val)\n",
    "\n",
    "len(dummy_mf_labels_predicted)"
   ]
  },
  {
   "cell_type": "code",
   "execution_count": null,
   "metadata": {
    "id": "Dvggkx3uhoFf"
   },
   "outputs": [],
   "source": [
    "from sklearn.metrics import accuracy_score, precision_score, recall_score, f1_score\n",
    "\n",
    "dummy_mf_accuracy = accuracy_score(labels_val, dummy_mf_labels_predicted)\n",
    "print(f\"{dummy_mf_accuracy=:.3f}\")\n",
    "\n",
    "dummy_mf_precision = precision_score(labels_val, dummy_mf_labels_predicted)\n",
    "print(f\"{dummy_mf_precision=:.3f}\")\n",
    "\n",
    "dummy_mf_recall = recall_score(labels_val, dummy_mf_labels_predicted)\n",
    "print(f\"{dummy_mf_recall=:.3f}\")\n",
    "\n",
    "dummy_mf_f1 = f1_score(labels_val, dummy_mf_labels_predicted)\n",
    "print(f\"{dummy_mf_f1=:.3f}\")"
   ]
  },
  {
   "cell_type": "code",
   "execution_count": null,
   "metadata": {
    "id": "ZWwBO_8pq2zE"
   },
   "outputs": [],
   "source": [
    "#Dummy classifier \"stratified\"\n",
    "from sklearn.dummy import DummyClassifier\n",
    "import numpy as np\n",
    "\n",
    "dummy_s = DummyClassifier(strategy=\"stratified\", random_state=42)\n",
    "dummy_s.fit(X_train, labels_train)\n",
    "dummy_s_labels_predicted = dummy_s.predict(X_val)\n",
    "\n",
    "len(dummy_s_labels_predicted)"
   ]
  },
  {
   "cell_type": "code",
   "execution_count": null,
   "metadata": {
    "id": "DrOc58aoiewk"
   },
   "outputs": [],
   "source": [
    "from sklearn.metrics import accuracy_score, precision_score, recall_score, f1_score\n",
    "\n",
    "dummy_s_accuracy = accuracy_score(labels_val, dummy_s_labels_predicted)\n",
    "print(f\"{dummy_s_accuracy=:.3f}\")\n",
    "\n",
    "dummy_s_precision = precision_score(labels_val, dummy_s_labels_predicted)\n",
    "print(f\"{dummy_s_precision=:.3f}\")\n",
    "\n",
    "dummy_s_recall = recall_score(labels_val, dummy_s_labels_predicted)\n",
    "print(f\"{dummy_s_recall=:.3f}\")\n",
    "\n",
    "dummy_s_f1 = f1_score(labels_val, dummy_s_labels_predicted)\n",
    "print(f\"{dummy_s_f1=:.3f}\")"
   ]
  },
  {
   "cell_type": "code",
   "execution_count": null,
   "metadata": {
    "id": "uhmP9J9Gr_BV"
   },
   "outputs": [],
   "source": [
    "#LogisticRegression One-Hot\n",
    "from sklearn.linear_model import LogisticRegression\n",
    "from sklearn.feature_extraction.text import CountVectorizer\n",
    "\n",
    "one_vectorizer = CountVectorizer(binary=True)\n",
    "one_X_train = one_vectorizer.fit_transform(texts_train)\n",
    "one_X_val = one_vectorizer.transform(texts_val)\n",
    "\n",
    "clf_one = LogisticRegression(random_state=42)\n",
    "clf_one.fit(one_X_train,labels_train)\n",
    "clf_one_labels_predicted = clf_one.predict(one_X_val)\n",
    "\n",
    "len(clf_one_labels_predicted)"
   ]
  },
  {
   "cell_type": "code",
   "execution_count": null,
   "metadata": {
    "id": "DZiSJfieirKk"
   },
   "outputs": [],
   "source": [
    "from sklearn.metrics import accuracy_score, precision_score, recall_score, f1_score\n",
    "\n",
    "clf_one_accuracy = accuracy_score(labels_val, clf_one_labels_predicted)\n",
    "print(f\"{clf_one_accuracy=:.3f}\")\n",
    "\n",
    "clf_one_precision = precision_score(labels_val, clf_one_labels_predicted)\n",
    "print(f\"{clf_one_precision=:.3f}\")\n",
    "\n",
    "clf_one_recall = recall_score(labels_val, clf_one_labels_predicted)\n",
    "print(f\"{clf_one_recall=:.3f}\")\n",
    "\n",
    "clf_one_f1 = f1_score(labels_val, clf_one_labels_predicted)\n",
    "print(f\"{clf_one_f1=:.3f}\")"
   ]
  },
  {
   "cell_type": "code",
   "execution_count": null,
   "metadata": {
    "id": "QfV2KXqlrQiK"
   },
   "outputs": [],
   "source": [
    "#LogisticRegression TF-IDF\n",
    "from sklearn.linear_model import LogisticRegression\n",
    "\n",
    "clf_tfidf = LogisticRegression(random_state=42)\n",
    "clf_tfidf.fit(X_train,labels_train)\n",
    "clf_tfidf_labels_predicted = clf_tfidf.predict(X_val)\n",
    "\n",
    "len(clf_tfidf_labels_predicted)"
   ]
  },
  {
   "cell_type": "code",
   "execution_count": null,
   "metadata": {
    "id": "mtX8V8-ZjWFq"
   },
   "outputs": [],
   "source": [
    "from sklearn.metrics import accuracy_score, precision_score, recall_score, f1_score\n",
    "\n",
    "clf_tfidf_accuracy = accuracy_score(labels_val, clf_tfidf_labels_predicted)\n",
    "print(f\"{clf_tfidf_accuracy=:.3f}\")\n",
    "\n",
    "clf_tfidf_precision = precision_score(labels_val, clf_tfidf_labels_predicted)\n",
    "print(f\"{clf_tfidf_precision=:.3f}\")\n",
    "\n",
    "clf_tfidf_recall = recall_score(labels_val, clf_tfidf_labels_predicted)\n",
    "print(f\"{clf_tfidf_recall=:.3f}\")\n",
    "\n",
    "clf_tfidf_f1 = f1_score(labels_val, clf_tfidf_labels_predicted)\n",
    "print(f\"{clf_tfidf_f1=:.3f}\")"
   ]
  },
  {
   "cell_type": "code",
   "execution_count": null,
   "metadata": {
    "id": "TtCNIA_WsIe4"
   },
   "outputs": [],
   "source": [
    "#SVC\n",
    "from sklearn.pipeline import make_pipeline\n",
    "from sklearn.svm import SVC\n",
    "from sklearn.preprocessing import StandardScaler\n",
    "\n",
    "clf_svc = make_pipeline(StandardScaler(with_mean=False), SVC(gamma='auto'))\n",
    "clf_svc.fit(one_X_train, labels_train)\n",
    "clf_svc_labels_predicted = clf_svc.predict(X_val)\n",
    "\n",
    "len(clf_svc_labels_predicted)"
   ]
  },
  {
   "cell_type": "code",
   "execution_count": null,
   "metadata": {
    "id": "XId62YXouIjW"
   },
   "outputs": [],
   "source": [
    "from sklearn.metrics import accuracy_score, precision_score, recall_score, f1_score\n",
    "\n",
    "clf_svc_accuracy = accuracy_score(labels_val, clf_svc_labels_predicted)\n",
    "print(f\"{clf_svc_accuracy=:.3f}\")\n",
    "\n",
    "clf_svc_precision = precision_score(labels_val, clf_svc_labels_predicted)\n",
    "print(f\"{clf_svc_precision=:.3f}\")\n",
    "\n",
    "clf_svc_recall = recall_score(labels_val, clf_svc_labels_predicted)\n",
    "print(f\"{clf_svc_recall=:.3f}\")\n",
    "\n",
    "clf_svc_f1 = f1_score(labels_val, clf_svc_labels_predicted)\n",
    "print(f\"{cls_svc_f1=:.3f}\")"
   ]
  }
 ],
 "metadata": {
  "colab": {
   "provenance": []
  },
  "kernelspec": {
   "display_name": "Python 3",
   "language": "python",
   "name": "python3"
  },
  "language_info": {
   "codemirror_mode": {
    "name": "ipython",
    "version": 3
   },
   "file_extension": ".py",
   "mimetype": "text/x-python",
   "name": "python",
   "nbconvert_exporter": "python",
   "pygments_lexer": "ipython3",
   "version": "3.7.3"
  }
 },
 "nbformat": 4,
 "nbformat_minor": 1
}
